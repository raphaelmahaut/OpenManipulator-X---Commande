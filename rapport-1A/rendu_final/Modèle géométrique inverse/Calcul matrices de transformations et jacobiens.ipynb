{
 "cells": [
  {
   "cell_type": "markdown",
   "metadata": {},
   "source": [
    "# Calcul des matrices de transformations homogènes et du Jacobien d'un robot série quelconque\n",
    "Auteur : Miguel Da Silva  \n",
    "Date : 19/01/2022  \n",
    "Mail : miguel.dasilva@centralesupelec.fr"
   ]
  },
  {
   "cell_type": "markdown",
   "metadata": {},
   "source": [
    "Import de la bibliothèque de calcul symbolique"
   ]
  },
  {
   "cell_type": "code",
   "execution_count": null,
   "metadata": {},
   "outputs": [],
   "source": [
    "from sympy import* "
   ]
  },
  {
   "cell_type": "markdown",
   "metadata": {},
   "source": [
    "Initialisation des paramètres d'affichage des résultats analytiques donnés par sympy"
   ]
  },
  {
   "cell_type": "code",
   "execution_count": 2,
   "metadata": {},
   "outputs": [],
   "source": [
    "init_printing()"
   ]
  },
  {
   "cell_type": "markdown",
   "metadata": {},
   "source": [
    "## Description de la géométrie du robot grâce aux paramètres de Denavit-Hartenberg (DH)"
   ]
  },
  {
   "cell_type": "code",
   "execution_count": 3,
   "metadata": {},
   "outputs": [],
   "source": [
    "l1, l2, l3, l4, t, alpha = symbols(\"l1 l2 l3 l4 t alpha\")\n",
    "q1 = Function('q1')(t)\n",
    "q2 = Function('q2')(t)\n",
    "q3 = Function('q3')(t)\n",
    "q4 = Function('q4')(t)\n",
    "q = transpose(Matrix([ [q1,q2,q3,q4] ]))"
   ]
  },
  {
   "cell_type": "markdown",
   "metadata": {},
   "source": [
    "Tableau de DH :  \n",
    "  \n",
    "Première colonne (a<sub>i</sub>) : translation du repère i par rapport au repère i-1 selon l'axe **x<sub>i</sub>**  \n",
    "Deuxième colonne ($\\alpha$<sub>i</sub>) : angle de rotation autour du repère i par rapport au repère i-1 autour de l'axe **x<sub>i-1</sub>**  \n",
    "Troisième colonne (d<sub>i</sub>) : translation du repère i par rapport au repère i-1 selon l'axe **y<sub>i</sub>**  \n",
    "Quatrième colonne ($\\theta$<sub>i</sub>) : angle de rotation du repère i par rapport au repère i-1 autour de l'axe **z<sub>i-1</sub>**"
   ]
  },
  {
   "cell_type": "code",
   "execution_count": 4,
   "metadata": {},
   "outputs": [
    {
     "name": "stdout",
     "output_type": "stream",
     "text": [
      "⎡        -π                     ⎤\n",
      "⎢0.0119  ───  l₁      q₁(t)     ⎥\n",
      "⎢         2                     ⎥\n",
      "⎢                               ⎥\n",
      "⎢                             π ⎥\n",
      "⎢  l₂     0   0   α + q₂(t) - ─ ⎥\n",
      "⎢                             2 ⎥\n",
      "⎢                               ⎥\n",
      "⎢                              π⎥\n",
      "⎢  l₃     0   0   -α + q₃(t) + ─⎥\n",
      "⎢                              2⎥\n",
      "⎢                               ⎥\n",
      "⎣  l₄     0   0       q₄(t)     ⎦\n"
     ]
    }
   ],
   "source": [
    "DH = Matrix([[+0.0119, -pi/2, l1, q1], \n",
    "             [l2, 0, 0, q2-pi/2+alpha], \n",
    "             [l3, 0, 0, q3+pi/2-alpha],\n",
    "             [l4, 0, 0, q4]])\n",
    "\n",
    "pprint(DH)"
   ]
  },
  {
   "cell_type": "markdown",
   "metadata": {},
   "source": [
    "Nombre d'axes du robot = n"
   ]
  },
  {
   "cell_type": "code",
   "execution_count": 5,
   "metadata": {},
   "outputs": [
    {
     "name": "stdout",
     "output_type": "stream",
     "text": [
      "4\n"
     ]
    }
   ],
   "source": [
    "n=4\n",
    "k = shape(DH)[0]\n",
    "print(k)"
   ]
  },
  {
   "cell_type": "markdown",
   "metadata": {},
   "source": [
    "## Calcul des matrices de transformations homogènes"
   ]
  },
  {
   "cell_type": "markdown",
   "metadata": {},
   "source": [
    "Calcul des matrices de transformations homogènes d'un repère i à un repère i+1 pour tous les i allant de 0 (repère initial) à n (repère final) : **M<sub>01</sub>**, **M<sub>12</sub>**, **M<sub>23</sub>**, ... , **M<sub>n-1 n</sub>** "
   ]
  },
  {
   "cell_type": "code",
   "execution_count": 6,
   "metadata": {},
   "outputs": [
    {
     "name": "stderr",
     "output_type": "stream",
     "text": [
      "C:\\Users\\louis\\AppData\\Local\\Programs\\Python\\Python39\\lib\\site-packages\\IPython\\lib\\latextools.py:126: MatplotlibDeprecationWarning: \n",
      "The to_png function was deprecated in Matplotlib 3.4 and will be removed two minor releases later. Use mathtext.math_to_image instead.\n",
      "  mt.to_png(f, s, fontsize=12, dpi=dpi, color=color)\n",
      "C:\\Users\\louis\\AppData\\Local\\Programs\\Python\\Python39\\lib\\site-packages\\IPython\\lib\\latextools.py:126: MatplotlibDeprecationWarning: \n",
      "The to_rgba function was deprecated in Matplotlib 3.4 and will be removed two minor releases later. Use mathtext.math_to_image instead.\n",
      "  mt.to_png(f, s, fontsize=12, dpi=dpi, color=color)\n",
      "C:\\Users\\louis\\AppData\\Local\\Programs\\Python\\Python39\\lib\\site-packages\\IPython\\lib\\latextools.py:126: MatplotlibDeprecationWarning: \n",
      "The to_mask function was deprecated in Matplotlib 3.4 and will be removed two minor releases later. Use mathtext.math_to_image instead.\n",
      "  mt.to_png(f, s, fontsize=12, dpi=dpi, color=color)\n",
      "C:\\Users\\louis\\AppData\\Local\\Programs\\Python\\Python39\\lib\\site-packages\\IPython\\lib\\latextools.py:126: MatplotlibDeprecationWarning: \n",
      "The MathtextBackendBitmap class was deprecated in Matplotlib 3.4 and will be removed two minor releases later. Use mathtext.math_to_image instead.\n",
      "  mt.to_png(f, s, fontsize=12, dpi=dpi, color=color)\n"
     ]
    },
    {
     "data": {
      "text/latex": [
       "$\\displaystyle \\left[ \\left[\\begin{matrix}\\cos{\\left(\\operatorname{q_{1}}{\\left(t \\right)} \\right)} & 0 & - \\sin{\\left(\\operatorname{q_{1}}{\\left(t \\right)} \\right)} & 0.0119 \\cos{\\left(\\operatorname{q_{1}}{\\left(t \\right)} \\right)}\\\\\\sin{\\left(\\operatorname{q_{1}}{\\left(t \\right)} \\right)} & 0 & \\cos{\\left(\\operatorname{q_{1}}{\\left(t \\right)} \\right)} & 0.0119 \\sin{\\left(\\operatorname{q_{1}}{\\left(t \\right)} \\right)}\\\\0 & -1 & 0 & l_{1}\\\\0 & 0 & 0 & 1\\end{matrix}\\right], \\  \\left[\\begin{matrix}\\sin{\\left(\\alpha + \\operatorname{q_{2}}{\\left(t \\right)} \\right)} & \\cos{\\left(\\alpha + \\operatorname{q_{2}}{\\left(t \\right)} \\right)} & 0 & l_{2} \\sin{\\left(\\alpha + \\operatorname{q_{2}}{\\left(t \\right)} \\right)}\\\\- \\cos{\\left(\\alpha + \\operatorname{q_{2}}{\\left(t \\right)} \\right)} & \\sin{\\left(\\alpha + \\operatorname{q_{2}}{\\left(t \\right)} \\right)} & 0 & - l_{2} \\cos{\\left(\\alpha + \\operatorname{q_{2}}{\\left(t \\right)} \\right)}\\\\0 & 0 & 1 & 0\\\\0 & 0 & 0 & 1\\end{matrix}\\right], \\  \\left[\\begin{matrix}\\sin{\\left(\\alpha - \\operatorname{q_{3}}{\\left(t \\right)} \\right)} & - \\cos{\\left(\\alpha - \\operatorname{q_{3}}{\\left(t \\right)} \\right)} & 0 & l_{3} \\sin{\\left(\\alpha - \\operatorname{q_{3}}{\\left(t \\right)} \\right)}\\\\\\cos{\\left(\\alpha - \\operatorname{q_{3}}{\\left(t \\right)} \\right)} & \\sin{\\left(\\alpha - \\operatorname{q_{3}}{\\left(t \\right)} \\right)} & 0 & l_{3} \\cos{\\left(\\alpha - \\operatorname{q_{3}}{\\left(t \\right)} \\right)}\\\\0 & 0 & 1 & 0\\\\0 & 0 & 0 & 1\\end{matrix}\\right], \\  \\left[\\begin{matrix}\\cos{\\left(\\operatorname{q_{4}}{\\left(t \\right)} \\right)} & - \\sin{\\left(\\operatorname{q_{4}}{\\left(t \\right)} \\right)} & 0 & l_{4} \\cos{\\left(\\operatorname{q_{4}}{\\left(t \\right)} \\right)}\\\\\\sin{\\left(\\operatorname{q_{4}}{\\left(t \\right)} \\right)} & \\cos{\\left(\\operatorname{q_{4}}{\\left(t \\right)} \\right)} & 0 & l_{4} \\sin{\\left(\\operatorname{q_{4}}{\\left(t \\right)} \\right)}\\\\0 & 0 & 1 & 0\\\\0 & 0 & 0 & 1\\end{matrix}\\right]\\right]$"
      ],
      "text/plain": [
       "⎡⎡cos(q₁(t))  0   -sin(q₁(t))  0.0119⋅cos(q₁(t))⎤  ⎡sin(α + q₂(t))   cos(α + q\n",
       "⎢⎢                                              ⎥  ⎢                          \n",
       "⎢⎢sin(q₁(t))  0   cos(q₁(t))   0.0119⋅sin(q₁(t))⎥  ⎢-cos(α + q₂(t))  sin(α + q\n",
       "⎢⎢                                              ⎥, ⎢                          \n",
       "⎢⎢    0       -1       0              l₁        ⎥  ⎢       0               0  \n",
       "⎢⎢                                              ⎥  ⎢                          \n",
       "⎣⎣    0       0        0               1        ⎦  ⎣       0               0  \n",
       "\n",
       "₂(t))  0  l₂⋅sin(α + q₂(t)) ⎤  ⎡sin(α - q₃(t))  -cos(α - q₃(t))  0  l₃⋅sin(α -\n",
       "                            ⎥  ⎢                                              \n",
       "₂(t))  0  -l₂⋅cos(α + q₂(t))⎥  ⎢cos(α - q₃(t))  sin(α - q₃(t))   0  l₃⋅cos(α -\n",
       "                            ⎥, ⎢                                              \n",
       "       1          0         ⎥  ⎢      0                0         1          0 \n",
       "                            ⎥  ⎢                                              \n",
       "       0          1         ⎦  ⎣      0                0         0          1 \n",
       "\n",
       " q₃(t))⎤  ⎡cos(q₄(t))  -sin(q₄(t))  0  l₄⋅cos(q₄(t))⎤⎤\n",
       "       ⎥  ⎢                                         ⎥⎥\n",
       " q₃(t))⎥  ⎢sin(q₄(t))  cos(q₄(t))   0  l₄⋅sin(q₄(t))⎥⎥\n",
       "       ⎥, ⎢                                         ⎥⎥\n",
       "       ⎥  ⎢    0            0       1        0      ⎥⎥\n",
       "       ⎥  ⎢                                         ⎥⎥\n",
       "       ⎦  ⎣    0            0       0        1      ⎦⎦"
      ]
     },
     "execution_count": 6,
     "metadata": {},
     "output_type": "execute_result"
    }
   ],
   "source": [
    "M=[]\n",
    "for i in range(k):\n",
    "    M.append(Matrix([ [cos(DH[i,3]), -sin(DH[i,3])*cos(DH[i,1]), sin(DH[i,3])*sin(DH[i,1]), DH[i,0]*cos(DH[i,3])],\n",
    "               [sin(DH[i,3]), cos(DH[i,3])*cos(DH[i,1]), -cos(DH[i,3])*sin(DH[i,1]), DH[i,0]*sin(DH[i,3])],\n",
    "               [0, sin(DH[i,1]), cos(DH[i,1]), DH[i,2]],\n",
    "               [0, 0, 0, 1]\n",
    "               ])\n",
    "             )\n",
    "\n",
    "M"
   ]
  },
  {
   "cell_type": "markdown",
   "metadata": {},
   "source": [
    "Calcul de la matrice homogène **M<sub>0n</sub>** qui permet d'obetnir le Modèle géométrique direct du robot (MGD) :  \n",
    "Soit P<sub>0</sub> la position cartésienne de l'effecteur dans le repère d'origine et P<sub>n</sub> la position cartésienne de l'effecteur dans le repère n, alors P<sub>0</sub> = **M<sub>0n</sub>**.P<sub>n</sub>  "
   ]
  },
  {
   "cell_type": "code",
   "execution_count": 7,
   "metadata": {},
   "outputs": [
    {
     "data": {
      "text/latex": [
       "$\\displaystyle \\left[\\begin{matrix}\\cos{\\left(\\operatorname{q_{2}}{\\left(t \\right)} + \\operatorname{q_{3}}{\\left(t \\right)} + \\operatorname{q_{4}}{\\left(t \\right)} \\right)} \\cos{\\left(\\operatorname{q_{1}}{\\left(t \\right)} \\right)} & - \\sin{\\left(\\operatorname{q_{2}}{\\left(t \\right)} + \\operatorname{q_{3}}{\\left(t \\right)} + \\operatorname{q_{4}}{\\left(t \\right)} \\right)} \\cos{\\left(\\operatorname{q_{1}}{\\left(t \\right)} \\right)} & - \\sin{\\left(\\operatorname{q_{1}}{\\left(t \\right)} \\right)} & \\left(1.0 l_{2} \\sin{\\left(\\alpha + \\operatorname{q_{2}}{\\left(t \\right)} \\right)} + 1.0 l_{3} \\cos{\\left(\\operatorname{q_{2}}{\\left(t \\right)} + \\operatorname{q_{3}}{\\left(t \\right)} \\right)} + 1.0 l_{4} \\cos{\\left(\\operatorname{q_{2}}{\\left(t \\right)} + \\operatorname{q_{3}}{\\left(t \\right)} + \\operatorname{q_{4}}{\\left(t \\right)} \\right)} + 0.0119\\right) \\cos{\\left(\\operatorname{q_{1}}{\\left(t \\right)} \\right)}\\\\\\sin{\\left(\\operatorname{q_{1}}{\\left(t \\right)} \\right)} \\cos{\\left(\\operatorname{q_{2}}{\\left(t \\right)} + \\operatorname{q_{3}}{\\left(t \\right)} + \\operatorname{q_{4}}{\\left(t \\right)} \\right)} & - \\sin{\\left(\\operatorname{q_{2}}{\\left(t \\right)} + \\operatorname{q_{3}}{\\left(t \\right)} + \\operatorname{q_{4}}{\\left(t \\right)} \\right)} \\sin{\\left(\\operatorname{q_{1}}{\\left(t \\right)} \\right)} & \\cos{\\left(\\operatorname{q_{1}}{\\left(t \\right)} \\right)} & \\left(1.0 l_{2} \\sin{\\left(\\alpha + \\operatorname{q_{2}}{\\left(t \\right)} \\right)} + 1.0 l_{3} \\cos{\\left(\\operatorname{q_{2}}{\\left(t \\right)} + \\operatorname{q_{3}}{\\left(t \\right)} \\right)} + 1.0 l_{4} \\cos{\\left(\\operatorname{q_{2}}{\\left(t \\right)} + \\operatorname{q_{3}}{\\left(t \\right)} + \\operatorname{q_{4}}{\\left(t \\right)} \\right)} + 0.0119\\right) \\sin{\\left(\\operatorname{q_{1}}{\\left(t \\right)} \\right)}\\\\- \\sin{\\left(\\operatorname{q_{2}}{\\left(t \\right)} + \\operatorname{q_{3}}{\\left(t \\right)} + \\operatorname{q_{4}}{\\left(t \\right)} \\right)} & - \\cos{\\left(\\operatorname{q_{2}}{\\left(t \\right)} + \\operatorname{q_{3}}{\\left(t \\right)} + \\operatorname{q_{4}}{\\left(t \\right)} \\right)} & 0 & l_{1} + l_{2} \\cos{\\left(\\alpha + \\operatorname{q_{2}}{\\left(t \\right)} \\right)} - l_{3} \\sin{\\left(\\operatorname{q_{2}}{\\left(t \\right)} + \\operatorname{q_{3}}{\\left(t \\right)} \\right)} - l_{4} \\sin{\\left(\\operatorname{q_{2}}{\\left(t \\right)} + \\operatorname{q_{3}}{\\left(t \\right)} + \\operatorname{q_{4}}{\\left(t \\right)} \\right)}\\\\0 & 0 & 0 & 1\\end{matrix}\\right]$"
      ],
      "text/plain": [
       "⎡cos(q₂(t) + q₃(t) + q₄(t))⋅cos(q₁(t))  -sin(q₂(t) + q₃(t) + q₄(t))⋅cos(q₁(t))\n",
       "⎢                                                                             \n",
       "⎢sin(q₁(t))⋅cos(q₂(t) + q₃(t) + q₄(t))  -sin(q₂(t) + q₃(t) + q₄(t))⋅sin(q₁(t))\n",
       "⎢                                                                             \n",
       "⎢     -sin(q₂(t) + q₃(t) + q₄(t))            -cos(q₂(t) + q₃(t) + q₄(t))      \n",
       "⎢                                                                             \n",
       "⎣                  0                                      0                   \n",
       "\n",
       "  -sin(q₁(t))  (1.0⋅l₂⋅sin(α + q₂(t)) + 1.0⋅l₃⋅cos(q₂(t) + q₃(t)) + 1.0⋅l₄⋅cos\n",
       "                                                                              \n",
       "  cos(q₁(t))   (1.0⋅l₂⋅sin(α + q₂(t)) + 1.0⋅l₃⋅cos(q₂(t) + q₃(t)) + 1.0⋅l₄⋅cos\n",
       "                                                                              \n",
       "       0                     l₁ + l₂⋅cos(α + q₂(t)) - l₃⋅sin(q₂(t) + q₃(t)) - \n",
       "                                                                              \n",
       "       0                                                            1         \n",
       "\n",
       "(q₂(t) + q₃(t) + q₄(t)) + 0.0119)⋅cos(q₁(t))⎤\n",
       "                                            ⎥\n",
       "(q₂(t) + q₃(t) + q₄(t)) + 0.0119)⋅sin(q₁(t))⎥\n",
       "                                            ⎥\n",
       "l₄⋅sin(q₂(t) + q₃(t) + q₄(t))               ⎥\n",
       "                                            ⎥\n",
       "                                            ⎦"
      ]
     },
     "execution_count": 7,
     "metadata": {},
     "output_type": "execute_result"
    }
   ],
   "source": [
    "M0n = M[0]\n",
    "for i in range(1,k):\n",
    "    M0n = M0n*M[i]\n",
    "M0n = simplify(M0n)\n",
    "M0n"
   ]
  },
  {
   "cell_type": "markdown",
   "metadata": {},
   "source": [
    "## Calcul de la matrice Jacobienne"
   ]
  },
  {
   "cell_type": "markdown",
   "metadata": {},
   "source": [
    "### Calcul de la matrice Jacobienne des vitesses linéaires de l'effecteur "
   ]
  },
  {
   "cell_type": "markdown",
   "metadata": {},
   "source": [
    "Extraction des coordonnées de l'origine du repère n dans le repère 0, depuis la matrice **M<sub>0n</sub>**"
   ]
  },
  {
   "cell_type": "code",
   "execution_count": 8,
   "metadata": {},
   "outputs": [
    {
     "data": {
      "text/latex": [
       "$\\displaystyle \\left[\\begin{matrix}\\left(1.0 l_{2} \\sin{\\left(\\alpha + \\operatorname{q_{2}}{\\left(t \\right)} \\right)} + 1.0 l_{3} \\cos{\\left(\\operatorname{q_{2}}{\\left(t \\right)} + \\operatorname{q_{3}}{\\left(t \\right)} \\right)} + 1.0 l_{4} \\cos{\\left(\\operatorname{q_{2}}{\\left(t \\right)} + \\operatorname{q_{3}}{\\left(t \\right)} + \\operatorname{q_{4}}{\\left(t \\right)} \\right)} + 0.0119\\right) \\cos{\\left(\\operatorname{q_{1}}{\\left(t \\right)} \\right)}\\\\\\left(1.0 l_{2} \\sin{\\left(\\alpha + \\operatorname{q_{2}}{\\left(t \\right)} \\right)} + 1.0 l_{3} \\cos{\\left(\\operatorname{q_{2}}{\\left(t \\right)} + \\operatorname{q_{3}}{\\left(t \\right)} \\right)} + 1.0 l_{4} \\cos{\\left(\\operatorname{q_{2}}{\\left(t \\right)} + \\operatorname{q_{3}}{\\left(t \\right)} + \\operatorname{q_{4}}{\\left(t \\right)} \\right)} + 0.0119\\right) \\sin{\\left(\\operatorname{q_{1}}{\\left(t \\right)} \\right)}\\\\l_{1} + l_{2} \\cos{\\left(\\alpha + \\operatorname{q_{2}}{\\left(t \\right)} \\right)} - l_{3} \\sin{\\left(\\operatorname{q_{2}}{\\left(t \\right)} + \\operatorname{q_{3}}{\\left(t \\right)} \\right)} - l_{4} \\sin{\\left(\\operatorname{q_{2}}{\\left(t \\right)} + \\operatorname{q_{3}}{\\left(t \\right)} + \\operatorname{q_{4}}{\\left(t \\right)} \\right)}\\end{matrix}\\right]$"
      ],
      "text/plain": [
       "⎡(1.0⋅l₂⋅sin(α + q₂(t)) + 1.0⋅l₃⋅cos(q₂(t) + q₃(t)) + 1.0⋅l₄⋅cos(q₂(t) + q₃(t)\n",
       "⎢                                                                             \n",
       "⎢(1.0⋅l₂⋅sin(α + q₂(t)) + 1.0⋅l₃⋅cos(q₂(t) + q₃(t)) + 1.0⋅l₄⋅cos(q₂(t) + q₃(t)\n",
       "⎢                                                                             \n",
       "⎣              l₁ + l₂⋅cos(α + q₂(t)) - l₃⋅sin(q₂(t) + q₃(t)) - l₄⋅sin(q₂(t) +\n",
       "\n",
       " + q₄(t)) + 0.0119)⋅cos(q₁(t))⎤\n",
       "                              ⎥\n",
       " + q₄(t)) + 0.0119)⋅sin(q₁(t))⎥\n",
       "                              ⎥\n",
       " q₃(t) + q₄(t))               ⎦"
      ]
     },
     "execution_count": 8,
     "metadata": {},
     "output_type": "execute_result"
    }
   ],
   "source": [
    "Tx = M0n[0,3]\n",
    "Ty = M0n[1,3]\n",
    "Tz = M0n[2,3]\n",
    "\n",
    "T = transpose(Matrix([ [Tx, Ty, Tz] ]))\n",
    "\n",
    "simplify(T)"
   ]
  },
  {
   "cell_type": "markdown",
   "metadata": {},
   "source": [
    "Jacobienne des vitesses linéaires de l'effecteur"
   ]
  },
  {
   "cell_type": "code",
   "execution_count": 9,
   "metadata": {},
   "outputs": [
    {
     "data": {
      "text/latex": [
       "$\\displaystyle \\left[\\begin{matrix}- \\left(1.0 l_{2} \\sin{\\left(\\alpha + \\operatorname{q_{2}}{\\left(t \\right)} \\right)} + 1.0 l_{3} \\cos{\\left(\\operatorname{q_{2}}{\\left(t \\right)} + \\operatorname{q_{3}}{\\left(t \\right)} \\right)} + 1.0 l_{4} \\cos{\\left(\\operatorname{q_{2}}{\\left(t \\right)} + \\operatorname{q_{3}}{\\left(t \\right)} + \\operatorname{q_{4}}{\\left(t \\right)} \\right)} + 0.0119\\right) \\sin{\\left(\\operatorname{q_{1}}{\\left(t \\right)} \\right)} & 1.0 \\left(l_{2} \\cos{\\left(\\alpha + \\operatorname{q_{2}}{\\left(t \\right)} \\right)} - l_{3} \\sin{\\left(\\operatorname{q_{2}}{\\left(t \\right)} + \\operatorname{q_{3}}{\\left(t \\right)} \\right)} - l_{4} \\sin{\\left(\\operatorname{q_{2}}{\\left(t \\right)} + \\operatorname{q_{3}}{\\left(t \\right)} + \\operatorname{q_{4}}{\\left(t \\right)} \\right)}\\right) \\cos{\\left(\\operatorname{q_{1}}{\\left(t \\right)} \\right)} & - 1.0 \\left(l_{3} \\sin{\\left(\\operatorname{q_{2}}{\\left(t \\right)} + \\operatorname{q_{3}}{\\left(t \\right)} \\right)} + l_{4} \\sin{\\left(\\operatorname{q_{2}}{\\left(t \\right)} + \\operatorname{q_{3}}{\\left(t \\right)} + \\operatorname{q_{4}}{\\left(t \\right)} \\right)}\\right) \\cos{\\left(\\operatorname{q_{1}}{\\left(t \\right)} \\right)} & - 1.0 l_{4} \\sin{\\left(\\operatorname{q_{2}}{\\left(t \\right)} + \\operatorname{q_{3}}{\\left(t \\right)} + \\operatorname{q_{4}}{\\left(t \\right)} \\right)} \\cos{\\left(\\operatorname{q_{1}}{\\left(t \\right)} \\right)}\\\\\\left(1.0 l_{2} \\sin{\\left(\\alpha + \\operatorname{q_{2}}{\\left(t \\right)} \\right)} + 1.0 l_{3} \\cos{\\left(\\operatorname{q_{2}}{\\left(t \\right)} + \\operatorname{q_{3}}{\\left(t \\right)} \\right)} + 1.0 l_{4} \\cos{\\left(\\operatorname{q_{2}}{\\left(t \\right)} + \\operatorname{q_{3}}{\\left(t \\right)} + \\operatorname{q_{4}}{\\left(t \\right)} \\right)} + 0.0119\\right) \\cos{\\left(\\operatorname{q_{1}}{\\left(t \\right)} \\right)} & 1.0 \\left(l_{2} \\cos{\\left(\\alpha + \\operatorname{q_{2}}{\\left(t \\right)} \\right)} - l_{3} \\sin{\\left(\\operatorname{q_{2}}{\\left(t \\right)} + \\operatorname{q_{3}}{\\left(t \\right)} \\right)} - l_{4} \\sin{\\left(\\operatorname{q_{2}}{\\left(t \\right)} + \\operatorname{q_{3}}{\\left(t \\right)} + \\operatorname{q_{4}}{\\left(t \\right)} \\right)}\\right) \\sin{\\left(\\operatorname{q_{1}}{\\left(t \\right)} \\right)} & - 1.0 \\left(l_{3} \\sin{\\left(\\operatorname{q_{2}}{\\left(t \\right)} + \\operatorname{q_{3}}{\\left(t \\right)} \\right)} + l_{4} \\sin{\\left(\\operatorname{q_{2}}{\\left(t \\right)} + \\operatorname{q_{3}}{\\left(t \\right)} + \\operatorname{q_{4}}{\\left(t \\right)} \\right)}\\right) \\sin{\\left(\\operatorname{q_{1}}{\\left(t \\right)} \\right)} & - 1.0 l_{4} \\sin{\\left(\\operatorname{q_{2}}{\\left(t \\right)} + \\operatorname{q_{3}}{\\left(t \\right)} + \\operatorname{q_{4}}{\\left(t \\right)} \\right)} \\sin{\\left(\\operatorname{q_{1}}{\\left(t \\right)} \\right)}\\\\0 & - l_{2} \\sin{\\left(\\alpha + \\operatorname{q_{2}}{\\left(t \\right)} \\right)} - l_{3} \\cos{\\left(\\operatorname{q_{2}}{\\left(t \\right)} + \\operatorname{q_{3}}{\\left(t \\right)} \\right)} - l_{4} \\cos{\\left(\\operatorname{q_{2}}{\\left(t \\right)} + \\operatorname{q_{3}}{\\left(t \\right)} + \\operatorname{q_{4}}{\\left(t \\right)} \\right)} & - l_{3} \\cos{\\left(\\operatorname{q_{2}}{\\left(t \\right)} + \\operatorname{q_{3}}{\\left(t \\right)} \\right)} - l_{4} \\cos{\\left(\\operatorname{q_{2}}{\\left(t \\right)} + \\operatorname{q_{3}}{\\left(t \\right)} + \\operatorname{q_{4}}{\\left(t \\right)} \\right)} & - l_{4} \\cos{\\left(\\operatorname{q_{2}}{\\left(t \\right)} + \\operatorname{q_{3}}{\\left(t \\right)} + \\operatorname{q_{4}}{\\left(t \\right)} \\right)}\\end{matrix}\\right]$"
      ],
      "text/plain": [
       "⎡-(1.0⋅l₂⋅sin(α + q₂(t)) + 1.0⋅l₃⋅cos(q₂(t) + q₃(t)) + 1.0⋅l₄⋅cos(q₂(t) + q₃(t\n",
       "⎢                                                                             \n",
       "⎢(1.0⋅l₂⋅sin(α + q₂(t)) + 1.0⋅l₃⋅cos(q₂(t) + q₃(t)) + 1.0⋅l₄⋅cos(q₂(t) + q₃(t)\n",
       "⎢                                                                             \n",
       "⎣                                                     0                       \n",
       "\n",
       ") + q₄(t)) + 0.0119)⋅sin(q₁(t))  1.0⋅(l₂⋅cos(α + q₂(t)) - l₃⋅sin(q₂(t) + q₃(t)\n",
       "                                                                              \n",
       " + q₄(t)) + 0.0119)⋅cos(q₁(t))   1.0⋅(l₂⋅cos(α + q₂(t)) - l₃⋅sin(q₂(t) + q₃(t)\n",
       "                                                                              \n",
       "                                         -l₂⋅sin(α + q₂(t)) - l₃⋅cos(q₂(t) + q\n",
       "\n",
       ") - l₄⋅sin(q₂(t) + q₃(t) + q₄(t)))⋅cos(q₁(t))  -1.0⋅(l₃⋅sin(q₂(t) + q₃(t)) + l\n",
       "                                                                              \n",
       ") - l₄⋅sin(q₂(t) + q₃(t) + q₄(t)))⋅sin(q₁(t))  -1.0⋅(l₃⋅sin(q₂(t) + q₃(t)) + l\n",
       "                                                                              \n",
       "₃(t)) - l₄⋅cos(q₂(t) + q₃(t) + q₄(t))                  -l₃⋅cos(q₂(t) + q₃(t)) \n",
       "\n",
       "₄⋅sin(q₂(t) + q₃(t) + q₄(t)))⋅cos(q₁(t))  -1.0⋅l₄⋅sin(q₂(t) + q₃(t) + q₄(t))⋅c\n",
       "                                                                              \n",
       "₄⋅sin(q₂(t) + q₃(t) + q₄(t)))⋅sin(q₁(t))  -1.0⋅l₄⋅sin(q₂(t) + q₃(t) + q₄(t))⋅s\n",
       "                                                                              \n",
       "- l₄⋅cos(q₂(t) + q₃(t) + q₄(t))                  -l₄⋅cos(q₂(t) + q₃(t) + q₄(t)\n",
       "\n",
       "os(q₁(t))⎤\n",
       "         ⎥\n",
       "in(q₁(t))⎥\n",
       "         ⎥\n",
       ")        ⎦"
      ]
     },
     "execution_count": 9,
     "metadata": {},
     "output_type": "execute_result"
    }
   ],
   "source": [
    "J_v = zeros(3,n)\n",
    "\n",
    "for i in range(3):\n",
    "    for j in range(n):\n",
    "        J_v[i,j]=T[i].diff(q[j])\n",
    "\n",
    "simplify(J_v)"
   ]
  },
  {
   "cell_type": "markdown",
   "metadata": {},
   "source": [
    "### Calcul de la matrice Jacobienne des vitesses angulaires de l'effecteur"
   ]
  },
  {
   "cell_type": "markdown",
   "metadata": {},
   "source": [
    "Extraction de la matrice de rotation **R<sub>0n</sub>** depuis la matrice **M<sub>0n</sub>**"
   ]
  },
  {
   "cell_type": "code",
   "execution_count": 15,
   "metadata": {},
   "outputs": [
    {
     "data": {
      "text/latex": [
       "$\\displaystyle \\left[\\begin{matrix}\\left(- \\frac{d}{d t} \\operatorname{q_{2}}{\\left(t \\right)} - \\frac{d}{d t} \\operatorname{q_{3}}{\\left(t \\right)} - \\frac{d}{d t} \\operatorname{q_{4}}{\\left(t \\right)}\\right) \\sin{\\left(\\operatorname{q_{1}}{\\left(t \\right)} \\right)}\\\\\\left(\\frac{d}{d t} \\operatorname{q_{2}}{\\left(t \\right)} + \\frac{d}{d t} \\operatorname{q_{3}}{\\left(t \\right)} + \\frac{d}{d t} \\operatorname{q_{4}}{\\left(t \\right)}\\right) \\cos{\\left(\\operatorname{q_{1}}{\\left(t \\right)} \\right)}\\\\\\frac{d}{d t} \\operatorname{q_{1}}{\\left(t \\right)}\\end{matrix}\\right]$"
      ],
      "text/plain": [
       "⎡⎛  d           d           d        ⎞           ⎤\n",
       "⎢⎜- ──(q₂(t)) - ──(q₃(t)) - ──(q₄(t))⎟⋅sin(q₁(t))⎥\n",
       "⎢⎝  dt          dt          dt       ⎠           ⎥\n",
       "⎢                                                ⎥\n",
       "⎢ ⎛d           d           d        ⎞            ⎥\n",
       "⎢ ⎜──(q₂(t)) + ──(q₃(t)) + ──(q₄(t))⎟⋅cos(q₁(t)) ⎥\n",
       "⎢ ⎝dt          dt          dt       ⎠            ⎥\n",
       "⎢                                                ⎥\n",
       "⎢                   d                            ⎥\n",
       "⎢                   ──(q₁(t))                    ⎥\n",
       "⎣                   dt                           ⎦"
      ]
     },
     "execution_count": 15,
     "metadata": {},
     "output_type": "execute_result"
    }
   ],
   "source": [
    "R0n = M0n[0:3,0:3]\n",
    "\n",
    "R0n_dot = R0n.diff(t)\n",
    "S_omega_0n = R0n_dot*transpose(R0n) \n",
    "\n",
    "omega_x = -S_omega_0n[1,2]\n",
    "omega_y = S_omega_0n[0,2]\n",
    "omega_z = -S_omega_0n[0,1]\n",
    "\n",
    "omega = transpose(Matrix([ [omega_x, omega_y, omega_z] ]))\n",
    "\n",
    "simplify(omega)"
   ]
  },
  {
   "cell_type": "markdown",
   "metadata": {},
   "source": [
    "Jacobienne des vitesses angulaires de l'effecteur  \n",
    "**J_omega** est de la vitesse de rotation du repère n par rapport au repère 0 issue de la représentation angle/axe"
   ]
  },
  {
   "cell_type": "code",
   "execution_count": 21,
   "metadata": {},
   "outputs": [
    {
     "name": "stdout",
     "output_type": "stream",
     "text": [
      "Matrix([[0, -sin(q2(t) + q3(t) + q4(t))**2*sin(q1(t)) - sin(q1(t))*cos(q2(t) + q3(t) + q4(t))**2, -sin(q2(t) + q3(t) + q4(t))**2*sin(q1(t)) - sin(q1(t))*cos(q2(t) + q3(t) + q4(t))**2, -sin(q2(t) + q3(t) + q4(t))**2*sin(q1(t)) - sin(q1(t))*cos(q2(t) + q3(t) + q4(t))**2], [0, sin(q2(t) + q3(t) + q4(t))**2*cos(q1(t)) + cos(q2(t) + q3(t) + q4(t))**2*cos(q1(t)), sin(q2(t) + q3(t) + q4(t))**2*cos(q1(t)) + cos(q2(t) + q3(t) + q4(t))**2*cos(q1(t)), sin(q2(t) + q3(t) + q4(t))**2*cos(q1(t)) + cos(q2(t) + q3(t) + q4(t))**2*cos(q1(t))], [sin(q2(t) + q3(t) + q4(t))**2*sin(q1(t))**2 + sin(q1(t))**2*cos(q2(t) + q3(t) + q4(t))**2 + cos(q1(t))**2, 0, 0, 0]])\n"
     ]
    },
    {
     "name": "stderr",
     "output_type": "stream",
     "text": [
      "C:\\Users\\louis\\AppData\\Local\\Programs\\Python\\Python39\\lib\\site-packages\\IPython\\lib\\latextools.py:126: MatplotlibDeprecationWarning: \n",
      "The to_png function was deprecated in Matplotlib 3.4 and will be removed two minor releases later. Use mathtext.math_to_image instead.\n",
      "  mt.to_png(f, s, fontsize=12, dpi=dpi, color=color)\n",
      "C:\\Users\\louis\\AppData\\Local\\Programs\\Python\\Python39\\lib\\site-packages\\IPython\\lib\\latextools.py:126: MatplotlibDeprecationWarning: \n",
      "The to_rgba function was deprecated in Matplotlib 3.4 and will be removed two minor releases later. Use mathtext.math_to_image instead.\n",
      "  mt.to_png(f, s, fontsize=12, dpi=dpi, color=color)\n",
      "C:\\Users\\louis\\AppData\\Local\\Programs\\Python\\Python39\\lib\\site-packages\\IPython\\lib\\latextools.py:126: MatplotlibDeprecationWarning: \n",
      "The to_mask function was deprecated in Matplotlib 3.4 and will be removed two minor releases later. Use mathtext.math_to_image instead.\n",
      "  mt.to_png(f, s, fontsize=12, dpi=dpi, color=color)\n",
      "C:\\Users\\louis\\AppData\\Local\\Programs\\Python\\Python39\\lib\\site-packages\\IPython\\lib\\latextools.py:126: MatplotlibDeprecationWarning: \n",
      "The MathtextBackendBitmap class was deprecated in Matplotlib 3.4 and will be removed two minor releases later. Use mathtext.math_to_image instead.\n",
      "  mt.to_png(f, s, fontsize=12, dpi=dpi, color=color)\n"
     ]
    },
    {
     "data": {
      "text/latex": [
       "$\\displaystyle \\left[\\begin{matrix}0 & - \\sin{\\left(\\operatorname{q_{1}}{\\left(t \\right)} \\right)} & - \\sin{\\left(\\operatorname{q_{1}}{\\left(t \\right)} \\right)} & - \\sin{\\left(\\operatorname{q_{1}}{\\left(t \\right)} \\right)}\\\\0 & \\cos{\\left(\\operatorname{q_{1}}{\\left(t \\right)} \\right)} & \\cos{\\left(\\operatorname{q_{1}}{\\left(t \\right)} \\right)} & \\cos{\\left(\\operatorname{q_{1}}{\\left(t \\right)} \\right)}\\\\1 & 0 & 0 & 0\\end{matrix}\\right]$"
      ],
      "text/plain": [
       "⎡0  -sin(q₁(t))  -sin(q₁(t))  -sin(q₁(t))⎤\n",
       "⎢                                        ⎥\n",
       "⎢0  cos(q₁(t))   cos(q₁(t))   cos(q₁(t)) ⎥\n",
       "⎢                                        ⎥\n",
       "⎣1       0            0            0     ⎦"
      ]
     },
     "execution_count": 21,
     "metadata": {},
     "output_type": "execute_result"
    }
   ],
   "source": [
    "J_omega = zeros(3,n)\n",
    "q_dot = zeros(1,n)\n",
    "\n",
    "for j in range(n):\n",
    "    q_dot[j] = q[j].diff(t)\n",
    "    \n",
    "for i in range(3):\n",
    "    for j in range(n):    \n",
    "        J_omega[i,j]=omega[i].diff(q_dot[j])\n",
    "\n",
    "print(J_omega)\n",
    "simplify(J_omega)"
   ]
  },
  {
   "cell_type": "markdown",
   "metadata": {},
   "source": [
    "### Construction de la matrice Jacobienne"
   ]
  },
  {
   "cell_type": "code",
   "execution_count": 12,
   "metadata": {},
   "outputs": [
    {
     "name": "stdout",
     "output_type": "stream",
     "text": [
      "Matrix([[-(1.0*l2*sin(alpha + q2(t)) + 1.0*l3*cos(q2(t) + q3(t)) + 1.0*l4*cos(q2(t) + q3(t) + q4(t)) + 0.0119)*sin(q1(t)), 1.0*(l2*cos(alpha + q2(t)) - l3*sin(q2(t) + q3(t)) - l4*sin(q2(t) + q3(t) + q4(t)))*cos(q1(t)), -1.0*(l3*sin(q2(t) + q3(t)) + l4*sin(q2(t) + q3(t) + q4(t)))*cos(q1(t)), -1.0*l4*sin(q2(t) + q3(t) + q4(t))*cos(q1(t))], [(1.0*l2*sin(alpha + q2(t)) + 1.0*l3*cos(q2(t) + q3(t)) + 1.0*l4*cos(q2(t) + q3(t) + q4(t)) + 0.0119)*cos(q1(t)), 1.0*(l2*cos(alpha + q2(t)) - l3*sin(q2(t) + q3(t)) - l4*sin(q2(t) + q3(t) + q4(t)))*sin(q1(t)), -1.0*(l3*sin(q2(t) + q3(t)) + l4*sin(q2(t) + q3(t) + q4(t)))*sin(q1(t)), -1.0*l4*sin(q2(t) + q3(t) + q4(t))*sin(q1(t))], [0, -l2*sin(alpha + q2(t)) - l3*cos(q2(t) + q3(t)) - l4*cos(q2(t) + q3(t) + q4(t)), -l3*cos(q2(t) + q3(t)) - l4*cos(q2(t) + q3(t) + q4(t)), -l4*cos(q2(t) + q3(t) + q4(t))], [0, -sin(q1(t)), -sin(q1(t)), -sin(q1(t))], [0, cos(q1(t)), cos(q1(t)), cos(q1(t))], [1, 0, 0, 0]])\n"
     ]
    },
    {
     "data": {
      "text/latex": [
       "$\\displaystyle \\left[\\begin{matrix}- \\left(1.0 l_{2} \\sin{\\left(\\alpha + \\operatorname{q_{2}}{\\left(t \\right)} \\right)} + 1.0 l_{3} \\cos{\\left(\\operatorname{q_{2}}{\\left(t \\right)} + \\operatorname{q_{3}}{\\left(t \\right)} \\right)} + 1.0 l_{4} \\cos{\\left(\\operatorname{q_{2}}{\\left(t \\right)} + \\operatorname{q_{3}}{\\left(t \\right)} + \\operatorname{q_{4}}{\\left(t \\right)} \\right)} + 0.0119\\right) \\sin{\\left(\\operatorname{q_{1}}{\\left(t \\right)} \\right)} & 1.0 \\left(l_{2} \\cos{\\left(\\alpha + \\operatorname{q_{2}}{\\left(t \\right)} \\right)} - l_{3} \\sin{\\left(\\operatorname{q_{2}}{\\left(t \\right)} + \\operatorname{q_{3}}{\\left(t \\right)} \\right)} - l_{4} \\sin{\\left(\\operatorname{q_{2}}{\\left(t \\right)} + \\operatorname{q_{3}}{\\left(t \\right)} + \\operatorname{q_{4}}{\\left(t \\right)} \\right)}\\right) \\cos{\\left(\\operatorname{q_{1}}{\\left(t \\right)} \\right)} & - 1.0 \\left(l_{3} \\sin{\\left(\\operatorname{q_{2}}{\\left(t \\right)} + \\operatorname{q_{3}}{\\left(t \\right)} \\right)} + l_{4} \\sin{\\left(\\operatorname{q_{2}}{\\left(t \\right)} + \\operatorname{q_{3}}{\\left(t \\right)} + \\operatorname{q_{4}}{\\left(t \\right)} \\right)}\\right) \\cos{\\left(\\operatorname{q_{1}}{\\left(t \\right)} \\right)} & - 1.0 l_{4} \\sin{\\left(\\operatorname{q_{2}}{\\left(t \\right)} + \\operatorname{q_{3}}{\\left(t \\right)} + \\operatorname{q_{4}}{\\left(t \\right)} \\right)} \\cos{\\left(\\operatorname{q_{1}}{\\left(t \\right)} \\right)}\\\\\\left(1.0 l_{2} \\sin{\\left(\\alpha + \\operatorname{q_{2}}{\\left(t \\right)} \\right)} + 1.0 l_{3} \\cos{\\left(\\operatorname{q_{2}}{\\left(t \\right)} + \\operatorname{q_{3}}{\\left(t \\right)} \\right)} + 1.0 l_{4} \\cos{\\left(\\operatorname{q_{2}}{\\left(t \\right)} + \\operatorname{q_{3}}{\\left(t \\right)} + \\operatorname{q_{4}}{\\left(t \\right)} \\right)} + 0.0119\\right) \\cos{\\left(\\operatorname{q_{1}}{\\left(t \\right)} \\right)} & 1.0 \\left(l_{2} \\cos{\\left(\\alpha + \\operatorname{q_{2}}{\\left(t \\right)} \\right)} - l_{3} \\sin{\\left(\\operatorname{q_{2}}{\\left(t \\right)} + \\operatorname{q_{3}}{\\left(t \\right)} \\right)} - l_{4} \\sin{\\left(\\operatorname{q_{2}}{\\left(t \\right)} + \\operatorname{q_{3}}{\\left(t \\right)} + \\operatorname{q_{4}}{\\left(t \\right)} \\right)}\\right) \\sin{\\left(\\operatorname{q_{1}}{\\left(t \\right)} \\right)} & - 1.0 \\left(l_{3} \\sin{\\left(\\operatorname{q_{2}}{\\left(t \\right)} + \\operatorname{q_{3}}{\\left(t \\right)} \\right)} + l_{4} \\sin{\\left(\\operatorname{q_{2}}{\\left(t \\right)} + \\operatorname{q_{3}}{\\left(t \\right)} + \\operatorname{q_{4}}{\\left(t \\right)} \\right)}\\right) \\sin{\\left(\\operatorname{q_{1}}{\\left(t \\right)} \\right)} & - 1.0 l_{4} \\sin{\\left(\\operatorname{q_{2}}{\\left(t \\right)} + \\operatorname{q_{3}}{\\left(t \\right)} + \\operatorname{q_{4}}{\\left(t \\right)} \\right)} \\sin{\\left(\\operatorname{q_{1}}{\\left(t \\right)} \\right)}\\\\0 & - l_{2} \\sin{\\left(\\alpha + \\operatorname{q_{2}}{\\left(t \\right)} \\right)} - l_{3} \\cos{\\left(\\operatorname{q_{2}}{\\left(t \\right)} + \\operatorname{q_{3}}{\\left(t \\right)} \\right)} - l_{4} \\cos{\\left(\\operatorname{q_{2}}{\\left(t \\right)} + \\operatorname{q_{3}}{\\left(t \\right)} + \\operatorname{q_{4}}{\\left(t \\right)} \\right)} & - l_{3} \\cos{\\left(\\operatorname{q_{2}}{\\left(t \\right)} + \\operatorname{q_{3}}{\\left(t \\right)} \\right)} - l_{4} \\cos{\\left(\\operatorname{q_{2}}{\\left(t \\right)} + \\operatorname{q_{3}}{\\left(t \\right)} + \\operatorname{q_{4}}{\\left(t \\right)} \\right)} & - l_{4} \\cos{\\left(\\operatorname{q_{2}}{\\left(t \\right)} + \\operatorname{q_{3}}{\\left(t \\right)} + \\operatorname{q_{4}}{\\left(t \\right)} \\right)}\\\\0 & - \\sin{\\left(\\operatorname{q_{1}}{\\left(t \\right)} \\right)} & - \\sin{\\left(\\operatorname{q_{1}}{\\left(t \\right)} \\right)} & - \\sin{\\left(\\operatorname{q_{1}}{\\left(t \\right)} \\right)}\\\\0 & \\cos{\\left(\\operatorname{q_{1}}{\\left(t \\right)} \\right)} & \\cos{\\left(\\operatorname{q_{1}}{\\left(t \\right)} \\right)} & \\cos{\\left(\\operatorname{q_{1}}{\\left(t \\right)} \\right)}\\\\1 & 0 & 0 & 0\\end{matrix}\\right]$"
      ],
      "text/plain": [
       "⎡-(1.0⋅l₂⋅sin(α + q₂(t)) + 1.0⋅l₃⋅cos(q₂(t) + q₃(t)) + 1.0⋅l₄⋅cos(q₂(t) + q₃(t\n",
       "⎢                                                                             \n",
       "⎢(1.0⋅l₂⋅sin(α + q₂(t)) + 1.0⋅l₃⋅cos(q₂(t) + q₃(t)) + 1.0⋅l₄⋅cos(q₂(t) + q₃(t)\n",
       "⎢                                                                             \n",
       "⎢                                                     0                       \n",
       "⎢                                                                             \n",
       "⎢                                                     0                       \n",
       "⎢                                                                             \n",
       "⎢                                                     0                       \n",
       "⎢                                                                             \n",
       "⎣                                                     1                       \n",
       "\n",
       ") + q₄(t)) + 0.0119)⋅sin(q₁(t))  1.0⋅(l₂⋅cos(α + q₂(t)) - l₃⋅sin(q₂(t) + q₃(t)\n",
       "                                                                              \n",
       " + q₄(t)) + 0.0119)⋅cos(q₁(t))   1.0⋅(l₂⋅cos(α + q₂(t)) - l₃⋅sin(q₂(t) + q₃(t)\n",
       "                                                                              \n",
       "                                         -l₂⋅sin(α + q₂(t)) - l₃⋅cos(q₂(t) + q\n",
       "                                                                              \n",
       "                                                                        -sin(q\n",
       "                                                                              \n",
       "                                                                         cos(q\n",
       "                                                                              \n",
       "                                                                             0\n",
       "\n",
       ") - l₄⋅sin(q₂(t) + q₃(t) + q₄(t)))⋅cos(q₁(t))  -1.0⋅(l₃⋅sin(q₂(t) + q₃(t)) + l\n",
       "                                                                              \n",
       ") - l₄⋅sin(q₂(t) + q₃(t) + q₄(t)))⋅sin(q₁(t))  -1.0⋅(l₃⋅sin(q₂(t) + q₃(t)) + l\n",
       "                                                                              \n",
       "₃(t)) - l₄⋅cos(q₂(t) + q₃(t) + q₄(t))                  -l₃⋅cos(q₂(t) + q₃(t)) \n",
       "                                                                              \n",
       "₁(t))                                                                        -\n",
       "                                                                              \n",
       "₁(t))                                                                        c\n",
       "                                                                              \n",
       "                                                                              \n",
       "\n",
       "₄⋅sin(q₂(t) + q₃(t) + q₄(t)))⋅cos(q₁(t))  -1.0⋅l₄⋅sin(q₂(t) + q₃(t) + q₄(t))⋅c\n",
       "                                                                              \n",
       "₄⋅sin(q₂(t) + q₃(t) + q₄(t)))⋅sin(q₁(t))  -1.0⋅l₄⋅sin(q₂(t) + q₃(t) + q₄(t))⋅s\n",
       "                                                                              \n",
       "- l₄⋅cos(q₂(t) + q₃(t) + q₄(t))                  -l₄⋅cos(q₂(t) + q₃(t) + q₄(t)\n",
       "                                                                              \n",
       "sin(q₁(t))                                                 -sin(q₁(t))        \n",
       "                                                                              \n",
       "os(q₁(t))                                                  cos(q₁(t))         \n",
       "                                                                              \n",
       "    0                                                           0             \n",
       "\n",
       "os(q₁(t))⎤\n",
       "         ⎥\n",
       "in(q₁(t))⎥\n",
       "         ⎥\n",
       ")        ⎥\n",
       "         ⎥\n",
       "         ⎥\n",
       "         ⎥\n",
       "         ⎥\n",
       "         ⎥\n",
       "         ⎦"
      ]
     },
     "execution_count": 12,
     "metadata": {},
     "output_type": "execute_result"
    }
   ],
   "source": [
    "J = simplify(Matrix([ [J_v], [J_omega] ]))\n",
    "print(J)\n",
    "J"
   ]
  }
 ],
 "metadata": {
  "interpreter": {
   "hash": "916dbcbb3f70747c44a77c7bcd40155683ae19c65e1c03b4aa3499c5328201f1"
  },
  "kernelspec": {
   "display_name": "Python 3.8.10 64-bit",
   "language": "python",
   "name": "python3"
  },
  "language_info": {
   "codemirror_mode": {
    "name": "ipython",
    "version": 3
   },
   "file_extension": ".py",
   "mimetype": "text/x-python",
   "name": "python",
   "nbconvert_exporter": "python",
   "pygments_lexer": "ipython3",
   "version": "3.7.6"
  },
  "orig_nbformat": 4
 },
 "nbformat": 4,
 "nbformat_minor": 2
}
